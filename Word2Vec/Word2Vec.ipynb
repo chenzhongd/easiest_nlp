{
 "cells": [
  {
   "cell_type": "code",
   "execution_count": 1,
   "id": "1449b4ad-1bd8-4fe1-b008-9ab6833f6baa",
   "metadata": {},
   "outputs": [],
   "source": [
    "from gensim.models import Word2Vec\n",
    "from gensim.utils import simple_preprocess"
   ]
  },
  {
   "cell_type": "code",
   "execution_count": 2,
   "id": "8dbaa50a-15c0-4bf3-a1c2-f7bbdc763827",
   "metadata": {},
   "outputs": [],
   "source": [
    "# 示例文本数据\n",
    "corpus = [\n",
    "    \"The quick brown fox jumps over the lazy dog\",\n",
    "    \"The dog is loyal and friendly\",\n",
    "    \"Foxes are wild animals\",\n",
    "    \"Dogs are domestic animals\",\n",
    "    \"The quick dog runs fast\"\n",
    "]"
   ]
  },
  {
   "cell_type": "code",
   "execution_count": 3,
   "id": "966c740d-929f-4fbc-93fd-45b0b203b34a",
   "metadata": {},
   "outputs": [],
   "source": [
    "# 将文本数据分词\n",
    "tokenized_corpus = [simple_preprocess(sentence) for sentence in corpus]\n",
    "\n",
    "# 设置训练参数\n",
    "# CBOW: sg=0（默认值）； Skip-gram: sg=1\n",
    "cbow_model = Word2Vec(sentences=tokenized_corpus, vector_size=50, window=3, min_count=1, sg=0)\n",
    "skipgram_model = Word2Vec(sentences=tokenized_corpus, vector_size=50, window=3, min_count=1, sg=1)"
   ]
  },
  {
   "cell_type": "code",
   "execution_count": 4,
   "id": "fa5c3657-2867-4a15-8997-f22d0413566c",
   "metadata": {},
   "outputs": [
    {
     "name": "stdout",
     "output_type": "stream",
     "text": [
      "CBOW - 单词'vector'的嵌入向量：\n",
      "[-0.01632377  0.00899723 -0.0082776   0.00164806  0.0169978  -0.00892552\n",
      "  0.00903828 -0.01357125 -0.00709999  0.01879458 -0.00315838  0.00064812\n",
      " -0.0082836  -0.01537097 -0.00301849  0.00493323 -0.00177727  0.01106436\n",
      " -0.00548781  0.0045157   0.01091042  0.01668961 -0.00289765 -0.01840967\n",
      "  0.00873266  0.00114314  0.01488784 -0.00162453 -0.00528064 -0.01750128\n",
      " -0.00170723  0.00564999  0.01079871  0.01409719 -0.01140061  0.00371827\n",
      "  0.01217871 -0.00959487 -0.00621711  0.01360083  0.00326821  0.00037685\n",
      "  0.00694213  0.00044185  0.01924861  0.01011406 -0.01783598 -0.01408106\n",
      "  0.0018089   0.01278117]\n",
      "\n",
      "Skip-gram - 单词'vector'的嵌入向量：\n",
      "[-0.0163211   0.00899741 -0.00827723  0.00165442  0.01699344 -0.00893559\n",
      "  0.00903771 -0.01357584 -0.00710076  0.01878385 -0.0031562   0.00064877\n",
      " -0.00827279 -0.0153748  -0.00301885  0.00493467 -0.00177791  0.01105483\n",
      " -0.00549633  0.00451217  0.01090997  0.01669871 -0.00289925 -0.01841382\n",
      "  0.00873159  0.00113915  0.01489131 -0.00162303 -0.00527795 -0.01749489\n",
      " -0.00170637  0.00564458  0.01079216  0.01410077 -0.01140329  0.00371776\n",
      "  0.01218176 -0.00959901 -0.0062213   0.01360553  0.0032674   0.00038238\n",
      "  0.00694562  0.00044223  0.01925486  0.01011203 -0.01783854 -0.01408203\n",
      "  0.00181259  0.01278669]\n"
     ]
    }
   ],
   "source": [
    "# 查看训练后的结果\n",
    "print(\"CBOW - 单词'vector'的嵌入向量：\")\n",
    "print(cbow_model.wv['dog'])\n",
    "\n",
    "print(\"\\nSkip-gram - 单词'vector'的嵌入向量：\")\n",
    "print(skipgram_model.wv['dog'])"
   ]
  },
  {
   "cell_type": "code",
   "execution_count": 5,
   "id": "3a826ce6-85ba-4428-992e-fefc6c8c73c1",
   "metadata": {},
   "outputs": [
    {
     "name": "stdout",
     "output_type": "stream",
     "text": [
      "\n",
      "CBOW - 与 'dog' 最相似的单词：\n",
      "[('wild', 0.2297576367855072), ('loyal', 0.16089019179344177), ('domestic', 0.14870333671569824), ('are', 0.12487586587667465), ('runs', 0.08053992688655853), ('brown', 0.07405462116003036), ('the', 0.042374081909656525), ('is', 0.018290217965841293), ('friendly', 0.01149215828627348), ('quick', 0.011124671436846256)]\n",
      "\n",
      "Skip-gram - 与 'dog' 最相似的单词：\n",
      "[('wild', 0.2297777384519577), ('loyal', 0.16113805770874023), ('domestic', 0.14879682660102844), ('are', 0.12487754970788956), ('runs', 0.08048326522111893), ('brown', 0.07418747246265411), ('the', 0.042442936450242996), ('is', 0.018418842926621437), ('friendly', 0.01174618024379015), ('quick', 0.011074387468397617)]\n"
     ]
    }
   ],
   "source": [
    "# 找到与“dog”最相似的单词\n",
    "print(\"\\nCBOW - 与 'dog' 最相似的单词：\")\n",
    "print(cbow_model.wv.most_similar('dog'))\n",
    "\n",
    "print(\"\\nSkip-gram - 与 'dog' 最相似的单词：\")\n",
    "print(skipgram_model.wv.most_similar('dog'))"
   ]
  }
 ],
 "metadata": {
  "kernelspec": {
   "display_name": "Python 3 (ipykernel)",
   "language": "python",
   "name": "python3"
  },
  "language_info": {
   "codemirror_mode": {
    "name": "ipython",
    "version": 3
   },
   "file_extension": ".py",
   "mimetype": "text/x-python",
   "name": "python",
   "nbconvert_exporter": "python",
   "pygments_lexer": "ipython3",
   "version": "3.10.15"
  }
 },
 "nbformat": 4,
 "nbformat_minor": 5
}
