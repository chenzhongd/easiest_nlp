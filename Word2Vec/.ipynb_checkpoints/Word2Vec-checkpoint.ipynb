{
 "cells": [
  {
   "cell_type": "code",
   "execution_count": null,
   "id": "1449b4ad-1bd8-4fe1-b008-9ab6833f6baa",
   "metadata": {},
   "outputs": [],
   "source": [
    "from gensim.models import Word2Vec\n",
    "from gensim.utils import simple_preprocess"
   ]
  },
  {
   "cell_type": "code",
   "execution_count": null,
   "id": "8dbaa50a-15c0-4bf3-a1c2-f7bbdc763827",
   "metadata": {},
   "outputs": [],
   "source": [
    "# 示例文本数据\n",
    "corpus = [\n",
    "    \"The quick brown fox jumps over the lazy dog\",\n",
    "    \"The dog is loyal and friendly\",\n",
    "    \"Foxes are wild animals\",\n",
    "    \"Dogs are domestic animals\",\n",
    "    \"The quick dog runs fast\"\n",
    "]"
   ]
  },
  {
   "cell_type": "code",
   "execution_count": null,
   "id": "966c740d-929f-4fbc-93fd-45b0b203b34a",
   "metadata": {},
   "outputs": [],
   "source": [
    "# 将文本数据分词\n",
    "tokenized_corpus = [simple_preprocess(sentence) for sentence in corpus]\n",
    "\n",
    "# 设置训练参数\n",
    "# CBOW: sg=0（默认值）； Skip-gram: sg=1\n",
    "cbow_model = Word2Vec(sentences=tokenized_corpus, vector_size=50, window=3, min_count=1, sg=0)\n",
    "skipgram_model = Word2Vec(sentences=tokenized_corpus, vector_size=50, window=3, min_count=1, sg=1)"
   ]
  },
  {
   "cell_type": "code",
   "execution_count": null,
   "id": "fa5c3657-2867-4a15-8997-f22d0413566c",
   "metadata": {},
   "outputs": [],
   "source": [
    "# 查看训练后的结果\n",
    "print(\"CBOW - 单词'vector'的嵌入向量：\")\n",
    "print(cbow_model.wv['dog'])\n",
    "\n",
    "print(\"\\nSkip-gram - 单词'vector'的嵌入向量：\")\n",
    "print(skipgram_model.wv['dog'])"
   ]
  },
  {
   "cell_type": "code",
   "execution_count": null,
   "id": "3a826ce6-85ba-4428-992e-fefc6c8c73c1",
   "metadata": {},
   "outputs": [],
   "source": [
    "# 找到与“dog”最相似的单词\n",
    "print(\"\\nCBOW - 与 'dog' 最相似的单词：\")\n",
    "print(cbow_model.wv.most_similar('dog'))\n",
    "\n",
    "print(\"\\nSkip-gram - 与 'dog' 最相似的单词：\")\n",
    "print(skipgram_model.wv.most_similar('dog'))"
   ]
  }
 ],
 "metadata": {
  "kernelspec": {
   "display_name": "Python 3 (ipykernel)",
   "language": "python",
   "name": "python3"
  },
  "language_info": {
   "codemirror_mode": {
    "name": "ipython",
    "version": 3
   },
   "file_extension": ".py",
   "mimetype": "text/x-python",
   "name": "python",
   "nbconvert_exporter": "python",
   "pygments_lexer": "ipython3",
   "version": "3.10.15"
  }
 },
 "nbformat": 4,
 "nbformat_minor": 5
}
