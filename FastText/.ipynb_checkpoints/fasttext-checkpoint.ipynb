{
 "cells": [
  {
   "cell_type": "code",
   "execution_count": 1,
   "id": "5746d839-5496-4eb4-b281-f4df82a35f60",
   "metadata": {},
   "outputs": [],
   "source": [
    "from datasets import load_dataset\n",
    "import fasttext\n",
    "\n",
    "# 加载 AG News 数据集\n",
    "dataset = load_dataset(\"ag_news\")\n",
    "\n",
    "# 将数据集保存为 FastText 格式\n",
    "def save_to_fasttext_format(dataset, filename):\n",
    "    with open(filename, 'w') as f:\n",
    "        for item in dataset:\n",
    "            label = f\"__label__{item['label']}\"\n",
    "            text = item['text'].replace('\\n', ' ')  # 确保文本在一行\n",
    "            f.write(f\"{label} {text}\\n\")"
   ]
  },
  {
   "cell_type": "code",
   "execution_count": 2,
   "id": "a4546c34-e70b-40f2-821d-d2add8cd1928",
   "metadata": {},
   "outputs": [
    {
     "data": {
      "text/plain": [
       "DatasetDict({\n",
       "    train: Dataset({\n",
       "        features: ['text', 'label'],\n",
       "        num_rows: 120000\n",
       "    })\n",
       "    test: Dataset({\n",
       "        features: ['text', 'label'],\n",
       "        num_rows: 7600\n",
       "    })\n",
       "})"
      ]
     },
     "execution_count": 2,
     "metadata": {},
     "output_type": "execute_result"
    }
   ],
   "source": [
    "dataset"
   ]
  },
  {
   "cell_type": "code",
   "execution_count": 3,
   "id": "f94ba8e4-595e-4c7c-88af-56a28d926182",
   "metadata": {},
   "outputs": [],
   "source": [
    "# 保存训练和测试数据\n",
    "save_to_fasttext_format(dataset['train'], 'train.txt')\n",
    "save_to_fasttext_format(dataset['test'], 'test.txt')"
   ]
  },
  {
   "cell_type": "code",
   "execution_count": 4,
   "id": "7aa8676f-279e-4203-a20e-b4605c687c5e",
   "metadata": {},
   "outputs": [
    {
     "name": "stderr",
     "output_type": "stream",
     "text": [
      "Read 4M words\n",
      "Number of words:  188111\n",
      "Number of labels: 4\n",
      "Progress: 100.0% words/sec/thread: 2751251 lr:  0.000000 avg.loss:  0.034338 ETA:   0h 0m 0s\n"
     ]
    }
   ],
   "source": [
    "# 训练模型\n",
    "model = fasttext.train_supervised(input=\"train.txt\", epoch=25, lr=1.0, wordNgrams=2, verbose=2, minCount=1)\n",
    "\n",
    "# 保存模型\n",
    "model.save_model(\"model_fasttext.bin\")"
   ]
  },
  {
   "cell_type": "code",
   "execution_count": 5,
   "id": "5c837887-0af8-46eb-8f68-8b21ab8dfa3a",
   "metadata": {},
   "outputs": [
    {
     "name": "stdout",
     "output_type": "stream",
     "text": [
      "Precision: 0.9163157894736842\n",
      "Recall: 0.9163157894736842\n"
     ]
    }
   ],
   "source": [
    "# 测试模型\n",
    "result = model.test(\"test.txt\")\n",
    "\n",
    "# 输出测试结果\n",
    "print(f\"Precision: {result[1]}\")\n",
    "print(f\"Recall: {result[2]}\")"
   ]
  },
  {
   "cell_type": "code",
   "execution_count": 6,
   "id": "335b2049-17b8-4402-9636-71242c50dba7",
   "metadata": {},
   "outputs": [
    {
     "name": "stdout",
     "output_type": "stream",
     "text": [
      "Text: The president gave a speech at the UN.\n",
      "Predicted Label: __label__0\n",
      "Probability: 0.9992398023605347\n",
      "\n",
      "Text: A breakthrough in quantum computing was announced.\n",
      "Predicted Label: __label__3\n",
      "Probability: 0.9750422835350037\n",
      "\n",
      "Text: The basketball team celebrated their victory.\n",
      "Predicted Label: __label__1\n",
      "Probability: 1.0000100135803223\n",
      "\n",
      "Text: Tech companies are investing in blockchain technology.\n",
      "Predicted Label: __label__3\n",
      "Probability: 0.9999887943267822\n",
      "\n"
     ]
    }
   ],
   "source": [
    "# 预测新文本\n",
    "texts = [\n",
    "    \"The president gave a speech at the UN.\",\n",
    "    \"A breakthrough in quantum computing was announced.\",\n",
    "    \"The basketball team celebrated their victory.\",\n",
    "    \"Tech companies are investing in blockchain technology.\"\n",
    "]\n",
    "labels, probabilities = model.predict(texts)\n",
    "\n",
    "for text, label, probability in zip(texts, labels, probabilities):\n",
    "    print(f\"Text: {text}\\nPredicted Label: {label[0]}\\nProbability: {probability[0]}\\n\")"
   ]
  }
 ],
 "metadata": {
  "kernelspec": {
   "display_name": "Python 3 (ipykernel)",
   "language": "python",
   "name": "python3"
  },
  "language_info": {
   "codemirror_mode": {
    "name": "ipython",
    "version": 3
   },
   "file_extension": ".py",
   "mimetype": "text/x-python",
   "name": "python",
   "nbconvert_exporter": "python",
   "pygments_lexer": "ipython3",
   "version": "3.10.15"
  }
 },
 "nbformat": 4,
 "nbformat_minor": 5
}
