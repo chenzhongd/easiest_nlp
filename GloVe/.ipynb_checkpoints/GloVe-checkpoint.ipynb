{
 "cells": [
  {
   "cell_type": "code",
   "execution_count": null,
   "id": "c9846fdd-0356-4577-b582-fea9f8ecf21e",
   "metadata": {},
   "outputs": [],
   "source": [
    "from gensim.models import KeyedVectors\n",
    "\n",
    "# 加载预训练的 GloVe 模型（需要下载 glove 文件并转换为 gensim 格式） 下载链接https://nlp.stanford.edu/projects/glove/\n",
    "glove_file = \"glove.6B.100d.txt\"  # 100维的 GloVe 预训练模型路径\n",
    "word_vectors = KeyedVectors.load_word2vec_format(glove_file, binary=False, no_header=True)"
   ]
  },
  {
   "cell_type": "code",
   "execution_count": null,
   "id": "cbaf10f1-e36e-4f66-a7eb-b854205ace7d",
   "metadata": {},
   "outputs": [],
   "source": [
    "# 查找词向量\n",
    "word = \"king\"\n",
    "vector = word_vectors[word]\n",
    "\n",
    "# 计算最相似的词\n",
    "similar_words = word_vectors.most_similar(word, topn=5)\n",
    "print(f\"与 '{word}' 最相似的词：\", similar_words)"
   ]
  }
 ],
 "metadata": {
  "kernelspec": {
   "display_name": "Python 3 (ipykernel)",
   "language": "python",
   "name": "python3"
  },
  "language_info": {
   "codemirror_mode": {
    "name": "ipython",
    "version": 3
   },
   "file_extension": ".py",
   "mimetype": "text/x-python",
   "name": "python",
   "nbconvert_exporter": "python",
   "pygments_lexer": "ipython3",
   "version": "3.10.15"
  }
 },
 "nbformat": 4,
 "nbformat_minor": 5
}
